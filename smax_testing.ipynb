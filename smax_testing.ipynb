{
 "cells": [
  {
   "cell_type": "code",
   "execution_count": 1,
   "id": "99e74ab6-474b-4e68-9f54-59baee502ce4",
   "metadata": {},
   "outputs": [],
   "source": [
    "import smax"
   ]
  },
  {
   "cell_type": "code",
   "execution_count": 3,
   "id": "d3817d26-6003-4812-9bff-26b1749afdd4",
   "metadata": {},
   "outputs": [],
   "source": [
    "src = smax.SmaxRedisClient(\"localhost\")"
   ]
  },
  {
   "cell_type": "code",
   "execution_count": 4,
   "id": "ebaccad5-d5b3-4189-907f-c30d16c42d37",
   "metadata": {},
   "outputs": [],
   "source": [
    "dic = {\n",
    "     '1':'test 1',\n",
    "     '2':{\n",
    "         '2.1':'test 2.1',\n",
    "         '2.2':{\n",
    "             '2.2.1':'test 2.2.1',\n",
    "             '2.2.2':'test 2.2.2'\n",
    "             },\n",
    "         '2.3':{'2.3.1':'test 2.3.1'}\n",
    "         },\n",
    "     '3':{'3.1':'test 3.1'}\n",
    "     }"
   ]
  },
  {
   "cell_type": "code",
   "execution_count": 247,
   "id": "32fc1b5c-0150-456c-919b-f9b378b40d5f",
   "metadata": {},
   "outputs": [],
   "source": [
    "table = \"test_share_struct\"\n",
    "expected_temp_value1 = 100\n",
    "expected_temp_value2 = 0\n",
    "expected_firmware_value1 = 2.0\n",
    "expected_firmware_value2 = 2.1\n",
    "expected_type_temp = int\n",
    "expected_dim_temp = 1\n",
    "expected_type_firmware = float\n",
    "expected_dim_firmware = 1\n",
    "\n",
    "struct = {\"roach2-03\": {\"temp\": expected_temp_value1, \"firmware\": expected_firmware_value1},\n",
    "          \"roach2-04\": {\"temp\": expected_temp_value2, \"firmware\": expected_firmware_value2}}"
   ]
  },
  {
   "cell_type": "code",
   "execution_count": 13,
   "id": "752860d0-6973-4504-9069-2ea2fa6afa18",
   "metadata": {},
   "outputs": [
    {
     "data": {
      "text/plain": [
       "{'1': 'test 1',\n",
       " '2': {'2.1': 'test 2.1',\n",
       "  '2.2': {'2.2.1': 'test 2.2.1', '2.2.2': 'test 2.2.2'},\n",
       "  '2.3': {'2.3.1': 'test 2.3.1'}},\n",
       " '3': {'3.1': 'test 3.1'}}"
      ]
     },
     "execution_count": 13,
     "metadata": {},
     "output_type": "execute_result"
    }
   ],
   "source": [
    "dic"
   ]
  },
  {
   "cell_type": "code",
   "execution_count": 258,
   "id": "c57536af-ce28-4c21-be21-0d1cf63892c2",
   "metadata": {},
   "outputs": [],
   "source": [
    "def _recurse_nested_dict(dictionary):\n",
    "    \"\"\"\n",
    "    Private function to recursively traverse a nested dictionary, finding\n",
    "    the leaf nodes that have actual data values.  Each real data value\n",
    "    is yielded back as it recurses.\n",
    "    Args:\n",
    "        dictionary (dict): Dict containing keys that exist in SMAX.\n",
    "\n",
    "    Yields:\n",
    "        (key, value) for every leaf node in the nested dictionary.\n",
    "    \"\"\"\n",
    "    for key, value in dictionary.items():\n",
    "        if isinstance(value, dict):\n",
    "            # If value is dict then iterate over all its values\n",
    "            for pair in _recurse_nested_dict(value):\n",
    "                yield (f\"{key}:{pair[0]}\", *pair[1:])\n",
    "            \n",
    "        else:\n",
    "            yield key, value"
   ]
  },
  {
   "cell_type": "code",
   "execution_count": 268,
   "id": "41dd27ab-97eb-4d5a-be84-c272c638079d",
   "metadata": {},
   "outputs": [],
   "source": [
    "leaves = list(_recurse_nested_dict(dic))"
   ]
  },
  {
   "cell_type": "code",
   "execution_count": 269,
   "id": "d1292e3a-e50c-434f-8d47-a141476cb4dd",
   "metadata": {},
   "outputs": [
    {
     "data": {
      "text/plain": [
       "[('1', 'test 1'),\n",
       " ('2:2.1', 'test 2.1'),\n",
       " ('2:2.2:2.2.1', 'test 2.2.1'),\n",
       " ('2:2.2:2.2.2', 'test 2.2.2'),\n",
       " ('2:2.3:2.3.1', 'test 2.3.1'),\n",
       " ('3:3.1', 'test 3.1')]"
      ]
     },
     "execution_count": 269,
     "metadata": {},
     "output_type": "execute_result"
    }
   ],
   "source": [
    "leaves"
   ]
  },
  {
   "cell_type": "code",
   "execution_count": 270,
   "id": "c2080c5d-12eb-48fa-b062-160d279743b0",
   "metadata": {},
   "outputs": [],
   "source": [
    "def _get_struct_fields(leaves):\n",
    "    \"\"\"\n",
    "    Private function to generate the set of all SMA-X fields required to describe the\n",
    "    tree structure of a nested dictionary.\n",
    "    Args:\n",
    "        leaves (list): List of leaf nodes from _recurse_nested_dict()\n",
    "\n",
    "    Returns:\n",
    "        list of (key, field, value, type) for each field at each level of the SMA-X nested structure.\n",
    "                    type is either \"value\" for a leaf node, or \"struct\" for an intermediate node.\n",
    "    \"\"\"\n",
    "    outpairs = []\n",
    "    for l in leaves:\n",
    "        if \":\" in l[0]:\n",
    "            tiers = l[0].split(\":\")\n",
    "            for t, tier in enumerate(tiers[:-1]):\n",
    "                superstruct = \":\".join(tiers[0:t])\n",
    "                pair = (superstruct, tiers[t], \":\".join(tiers[0:t+1]), \"struct\")\n",
    "                if pair not in outpairs:\n",
    "                    outpairs.append(pair)\n",
    "        tablekey = l[0].rsplit(\":\", 1)\n",
    "        if len(tablekey) == 1:\n",
    "            table = \"\"\n",
    "            key = tablekey[0]\n",
    "        else:\n",
    "            table = tablekey[0]\n",
    "            key = tablekey[1]\n",
    "        outpairs.append((table, key, l[1], \"value\"))\n",
    "    return outpairs\n"
   ]
  },
  {
   "cell_type": "code",
   "execution_count": 271,
   "id": "4395afdb-d07e-4335-a9b9-bfe4ca3bdcfa",
   "metadata": {},
   "outputs": [
    {
     "data": {
      "text/plain": [
       "[('', '1', 'test 1', 'value'),\n",
       " ('', '2', '2', 'struct'),\n",
       " ('2', '2.1', 'test 2.1', 'value'),\n",
       " ('2', '2.2', '2:2.2', 'struct'),\n",
       " ('2:2.2', '2.2.1', 'test 2.2.1', 'value'),\n",
       " ('2:2.2', '2.2.2', 'test 2.2.2', 'value'),\n",
       " ('2', '2.3', '2:2.3', 'struct'),\n",
       " ('2:2.3', '2.3.1', 'test 2.3.1', 'value'),\n",
       " ('', '3', '3', 'struct'),\n",
       " ('3', '3.1', 'test 3.1', 'value')]"
      ]
     },
     "execution_count": 271,
     "metadata": {},
     "output_type": "execute_result"
    }
   ],
   "source": [
    "outpairs = _get_struct_fields(leaves)\n",
    "outpairs"
   ]
  },
  {
   "cell_type": "code",
   "execution_count": 272,
   "id": "ff4eed91-1f60-4005-bd96-122846e604b3",
   "metadata": {},
   "outputs": [],
   "source": [
    "def _get_struct_tables(table, key, fields):\n",
    "    \"\"\"\n",
    "    Private function to generate a dictionary of tables and arguments to HMSET_WITH_META calls from\n",
    "    fields generated by _get_struct_fields() for a nested SMA-X struct.\n",
    "    Args:\n",
    "        table (str)   : The top level hash table name for the nested struct.\n",
    "        key (str)     : The top level key for the nested struct.\n",
    "        fields (list) : List of nested fields from _get_struct_fields()\n",
    "\n",
    "    Returns:\n",
    "        list of (key, field, value, type) for each field at each level of the SMA-X nested structure.\n",
    "                    type is either \"value\" for a leaf node, or \"struct\" for an intermediate node.\n",
    "    \"\"\"\n",
    "    tables = {}\n",
    "    for field in fields:\n",
    "        if field[3] == \"struct\":\n",
    "            converted_data, type_name, dim = (\":\".join((table, key, field[2])), field[3], 1)\n",
    "        else:\n",
    "            converted_data, type_name, dim = src._to_smax_format(field[2])\n",
    "        if field[0] != \"\":\n",
    "            tab = f\"{key}:{field[0]}\"\n",
    "        else:\n",
    "            tab = key\n",
    "        if tab not in tables:\n",
    "            tables[tab] = []\n",
    "        tables[tab].extend([field[1], converted_data, type_name, dim])\n",
    "    return tables"
   ]
  },
  {
   "cell_type": "code",
   "execution_count": 275,
   "id": "53ca089d-88de-4729-a068-a0cf0ef85938",
   "metadata": {},
   "outputs": [],
   "source": [
    "tables = get_tables(\"test_share_struct\", \"test_key\", outpairs)"
   ]
  },
  {
   "cell_type": "code",
   "execution_count": 276,
   "id": "18327bce-2eda-4d5b-8221-bd53d606917a",
   "metadata": {},
   "outputs": [
    {
     "name": "stdout",
     "output_type": "stream",
     "text": [
      "test_key ['1', 'test 1', 'str', 1, '2', 'test_share_struct:test_key:2', 'struct', 1, '3', 'test_share_struct:test_key:3', 'struct', 1]\n",
      "test_key:2 ['2.1', 'test 2.1', 'str', 1, '2.2', 'test_share_struct:test_key:2:2.2', 'struct', 1, '2.3', 'test_share_struct:test_key:2:2.3', 'struct', 1]\n",
      "test_key:2:2.2 ['2.2.1', 'test 2.2.1', 'str', 1, '2.2.2', 'test 2.2.2', 'str', 1]\n",
      "test_key:2:2.3 ['2.3.1', 'test 2.3.1', 'str', 1]\n",
      "test_key:3 ['3.1', 'test 3.1', 'str', 1]\n"
     ]
    }
   ],
   "source": [
    "for item in tables:\n",
    "    print(item, tables[item])"
   ]
  },
  {
   "cell_type": "code",
   "execution_count": 277,
   "id": "444d6819-0687-487f-a7d6-2df877bbeae6",
   "metadata": {},
   "outputs": [
    {
     "name": "stdout",
     "output_type": "stream",
     "text": [
      "test_key 1 test 1 str 1 2 test_share_struct:test_key:2 struct 1 3 test_share_struct:test_key:3 struct 1\n",
      "test_key:2 2.1 test 2.1 str 1 2.2 test_share_struct:test_key:2:2.2 struct 1 2.3 test_share_struct:test_key:2:2.3 struct 1\n",
      "test_key:2:2.2 2.2.1 test 2.2.1 str 1 2.2.2 test 2.2.2 str 1\n",
      "test_key:2:2.3 2.3.1 test 2.3.1 str 1\n",
      "test_key:3 3.1 test 3.1 str 1\n"
     ]
    }
   ],
   "source": [
    "for k in tables.keys():\n",
    "    print(k, *tables[k])"
   ]
  },
  {
   "cell_type": "code",
   "execution_count": null,
   "id": "1576e939-01db-4f43-9c9e-8fbee1775b9e",
   "metadata": {},
   "outputs": [],
   "source": [
    "{'test_key': [\n",
    "    '1', 'test 1', 'str', 1, \n",
    "    '2', 'test_share_struct_dic:test_key:2', 'struct', 1, \n",
    "    '3', 'test_share_struct_dic:test_key:3', 'struct', 1], \n",
    " 'test_key:2': [\n",
    "     '2.1', 'test 2.1', 'str', 1, \n",
    "     '2.2', 'test_share_struct_dic:test_key:2:2.2', 'struct', 1, \n",
    "     '2.3', 'test_share_struct_dic:test_key:2:2.3', 'struct', 1], \n",
    " 'test_key:2:2.2': [\n",
    "     '2.2.1', 'test 2.2.1', 'str', 1, \n",
    "     '2.2.2', 'test 2.2.2', 'str', 1], \n",
    " 'test_key:2:2.3': [\n",
    "     '2.3.1', 'test 2.3.1', 'str', 1], \n",
    " 'test_key:3': ['3.1', 'test 3.1', 'str', 1]\n",
    "}"
   ]
  },
  {
   "cell_type": "code",
   "execution_count": null,
   "id": "58db37d5-02cb-4558-a468-bdefe2849708",
   "metadata": {},
   "outputs": [],
   "source": [
    "{'test_key': [\n",
    "    '1', 'test 1', 'str', 1, \n",
    "    '2', 'test_share_struct_dic:test_key:2', 'struct', 1, \n",
    "    '3', 'test_share_struct_dic:test_key:3', 'struct', 1], \n",
    " 'test_key:2': [\n",
    "     '2.1', 'test 2.1', 'str', 1, \n",
    "     '2.2', 'test_share_struct_dic:test_key:2:2.2', 'struct', 1, \n",
    "     '2.3', 'test_share_struct_dic:test_key:2:2.3', 'struct', 1], \n",
    " 'test_key:2:2.2': [\n",
    "     '2.2.1', 'test 2.2.1', 'str', 1, \n",
    "     '2.2.2', 'test 2.2.2', 'str', 1], \n",
    " 'test_key:2:2.3': [\n",
    "     '2.3.1', 'test 2.3.1', 'str', 1], \n",
    " 'test_key:3': ['3.1', 'test 3.1', 'str', 1, 'T']\n",
    "}"
   ]
  },
  {
   "cell_type": "markdown",
   "id": "aed8799e-784f-420f-8ab4-f34e8c06c834",
   "metadata": {},
   "source": [
    "# Subclassing multiple types"
   ]
  },
  {
   "cell_type": "code",
   "execution_count": 309,
   "id": "ab0579db-8a42-4a9c-80c4-d9c54bc7844e",
   "metadata": {},
   "outputs": [],
   "source": [
    "class SmaxMixin(object):\n",
    "    def __init__(self, smax_type=None, smax_dim=None, smax_date=None, smax_origin=None, smax_seq=None, smax_name=None):\n",
    "        self.smax_type = smax_type\n",
    "        self.smax_dim = smax_dim\n",
    "        self.smax_date = smax_date\n",
    "        self.smax_origin = smax_origin\n",
    "        self.smax_seq = smax_seq\n",
    "        self.smax_name = smax_name\n",
    "    "
   ]
  },
  {
   "cell_type": "code",
   "execution_count": 474,
   "id": "2eb9083f-33fe-4fc9-8e4b-e75406f2432c",
   "metadata": {},
   "outputs": [],
   "source": [
    "class SmaxInt(int):\n",
    "    def __new__(cls, *args, **kwargs):\n",
    "        if 'base' in kwargs:\n",
    "            return super().__new__(cls, args[0], kwargs['base'] )\n",
    "        else:\n",
    "            return super().__new__(cls, args[0])\n",
    "        \n",
    "    def __init__(self, *args, **kwargs):\n",
    "        self.smax_type = None\n",
    "        self.smax_dim = None\n",
    "        self.smax_date = None\n",
    "        self.smax_origin = None\n",
    "        self.smax_seq = None\n",
    "        self.smax_name = None\n",
    "        \n",
    "        smax_kwargs = dict((k,v) for k,v in kwargs.items() if k.startswith('smax_'))\n",
    "        for kw in smax_kwargs:\n",
    "            self.__setattr__(kw, smax_kwargs[kw])\n",
    "        "
   ]
  },
  {
   "cell_type": "code",
   "execution_count": 476,
   "id": "688b07b9-7525-4e8b-a271-c8d398257191",
   "metadata": {},
   "outputs": [
    {
     "name": "stdout",
     "output_type": "stream",
     "text": [
      "7\n",
      "15\n",
      "7\n",
      "None\n"
     ]
    }
   ],
   "source": [
    "a = SmaxInt(7)\n",
    "print(a)\n",
    "b = SmaxInt(\"17\", base=8)\n",
    "print(b)\n",
    "c = SmaxInt(7, smax_type='int', smax_dim=1)\n",
    "print(c)\n",
    "print(c.smax_name)"
   ]
  },
  {
   "cell_type": "code",
   "execution_count": 477,
   "id": "712ee289-a74a-4aa2-bf12-1056f823370e",
   "metadata": {},
   "outputs": [],
   "source": [
    "class SmaxFloat(float):\n",
    "    def __new__(cls, *args, **kwargs):\n",
    "        return super().__new__(cls, args[0])\n",
    "        \n",
    "    def __init__(self, *args, **kwargs):\n",
    "        self.smax_type = None\n",
    "        self.smax_dim = None\n",
    "        self.smax_date = None\n",
    "        self.smax_origin = None\n",
    "        self.smax_seq = None\n",
    "        self.smax_name = None\n",
    "        \n",
    "        smax_kwargs = dict((k,v) for k,v in kwargs.items() if k.startswith('smax_'))\n",
    "        for kw in smax_kwargs:\n",
    "            self.__setattr__(kw, smax_kwargs[kw])"
   ]
  },
  {
   "cell_type": "code",
   "execution_count": 478,
   "id": "c1f5a10d-0a1c-44be-a7e0-2beafc57b4dc",
   "metadata": {},
   "outputs": [
    {
     "name": "stdout",
     "output_type": "stream",
     "text": [
      "4.3\n",
      "4.2\n",
      "None\n"
     ]
    }
   ],
   "source": [
    "a = SmaxFloat(4.3)\n",
    "print(a)\n",
    "b = SmaxFloat(4.2, smax_type=\"float\", smax_date=1661524418.794461)\n",
    "print(b)\n",
    "print(b.smax_name)"
   ]
  },
  {
   "cell_type": "code",
   "execution_count": 485,
   "id": "e7683f11-d0a5-42d6-babf-d38b73cea424",
   "metadata": {},
   "outputs": [],
   "source": [
    "class SmaxStr(str):\n",
    "    def __new__(cls, *args, **kwargs):\n",
    "        return super().__new__(cls, *args)\n",
    "        \n",
    "    def __init__(self, *args, **kwargs):\n",
    "        self.smax_type = None\n",
    "        self.smax_dim = None\n",
    "        self.smax_date = None\n",
    "        self.smax_origin = None\n",
    "        self.smax_seq = None\n",
    "        self.smax_name = None\n",
    "        \n",
    "        smax_kwargs = dict((k,v) for k,v in kwargs.items() if k.startswith('smax_'))\n",
    "        for kw in smax_kwargs:\n",
    "            self.__setattr__(kw, smax_kwargs[kw])"
   ]
  },
  {
   "cell_type": "code",
   "execution_count": 489,
   "id": "84f37c35-5406-4222-9ab3-5cfed50f2025",
   "metadata": {},
   "outputs": [
    {
     "name": "stdout",
     "output_type": "stream",
     "text": [
      "hello\n",
      "None\n",
      "hello again\n",
      "my_test_table:my_test_key:a_string\n"
     ]
    }
   ],
   "source": [
    "a = SmaxStr(\"hello\")\n",
    "print(a)\n",
    "print(a.smax_name)\n",
    "\n",
    "a = SmaxStr(\"hello again\", smax_name=\"my_test_table:my_test_key:a_string\")\n",
    "print(a)\n",
    "print(a.smax_name)"
   ]
  },
  {
   "cell_type": "code",
   "execution_count": 490,
   "id": "91f98ce8-3748-4806-b2f4-7edb72551b67",
   "metadata": {},
   "outputs": [],
   "source": [
    "b = a"
   ]
  },
  {
   "cell_type": "code",
   "execution_count": 491,
   "id": "dbcfff47-fef3-4ab7-a1f6-62e4f2944281",
   "metadata": {},
   "outputs": [
    {
     "data": {
      "text/plain": [
       "'my_test_table:my_test_key:a_string'"
      ]
     },
     "execution_count": 491,
     "metadata": {},
     "output_type": "execute_result"
    }
   ],
   "source": [
    "b.smax_name"
   ]
  },
  {
   "cell_type": "code",
   "execution_count": 492,
   "id": "9a1b694a-a873-48a3-89b2-7ae8ea70e3c0",
   "metadata": {},
   "outputs": [],
   "source": [
    "b = 8"
   ]
  },
  {
   "cell_type": "code",
   "execution_count": null,
   "id": "f2c2d6da-0b09-4813-9fd2-383c95303142",
   "metadata": {},
   "outputs": [],
   "source": [
    "b."
   ]
  }
 ],
 "metadata": {
  "kernelspec": {
   "display_name": "Python 3 (ipykernel)",
   "language": "python",
   "name": "python3"
  },
  "language_info": {
   "codemirror_mode": {
    "name": "ipython",
    "version": 3
   },
   "file_extension": ".py",
   "mimetype": "text/x-python",
   "name": "python",
   "nbconvert_exporter": "python",
   "pygments_lexer": "ipython3",
   "version": "3.10.4"
  }
 },
 "nbformat": 4,
 "nbformat_minor": 5
}
